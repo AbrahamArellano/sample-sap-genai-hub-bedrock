{
    "cells": [
        {
            "cell_type": "markdown",
            "metadata": {},
            "source": [
                "# Building an AI agent with Strands Agents SDK and SAP GenAI Hub\n",
                "\n",
                "This notebook demonstrates how to use the custom `SAPGenAIHubModel` class with the Strands Agents SDK to create an agent that uses SAP's GenAI Hub for consuming LLMs.\n",
                "\n",
                "## Prerequisites\n",
                "\n",
                "1. SAP AI Core credentials in your `~/.aicore/config.json` file\n",
                "2. Strands Agents SDK installed\n",
                "3. SAP GenAI Hub SDK installed"
            ]
        },
        {
            "cell_type": "markdown",
            "metadata": {},
            "source": [
                "## Install Dependencies"
            ]
        },
        {
            "cell_type": "code",
            "execution_count": null,
            "metadata": {},
            "outputs": [],
            "source": [
                "%pip install --upgrade pip\n",
                "%pip install \"strands-agents==1.0.1\" \"strands-agents-tools==0.2.0\" \"strands-agents-builder==0.1.7\" \"generative-ai-hub-sdk[all]==4.4.3\" \"boto3==1.35.27\" "
            ]
        },
        {
            "cell_type": "markdown",
            "metadata": {},
            "source": [
                "## Import the SAPGenAIHubModel class\n",
                "\n",
                "First, let's import the custom `SAPGenAIHubModel` class that we created to work with SAP's GenAI Hub."
            ]
        },
        {
            "cell_type": "code",
            "execution_count": null,
            "metadata": {},
            "outputs": [],
            "source": [
                "import os\n",
                "import sys\n",
                "\n",
                "from util.strands_bedrock_sap_genai_hub import SAPGenAIHubModel\n",
                "\n",
                "# Commented out SDK import path\n",
                "# sdk_path = os.path.abspath(os.path.join(os.getcwd(), \"..\", \"sdk-python\"))\n",
                "# if sdk_path not in sys.path:\n",
                "#     sys.path.append(sdk_path)\n",
                "\n",
                "# from src.strands.models.sap_genai_hub import SAPGenAIHubModel\n",
                "\n",
                "from strands import Agent, tool\n"
            ]
        },
        {
            "cell_type": "markdown",
            "metadata": {},
            "source": [
                "## Initialize the SAPGenAIHubModel\n",
                "\n",
                "Now, let's initialize the `SAPGenAIHubModel` with the desired model from SAP's GenAI Hub. We'll use the Amazon Nova Lite model as an example."
            ]
        },
        {
            "cell_type": "code",
            "execution_count": null,
            "metadata": {},
            "outputs": [],
            "source": [
                "# Set the model ID for the SAP GenAI Hub model\n",
                "\n",
                "# Available models include:\n",
                "# from https://me.sap.com/notes/0003437766, \n",
                "# ensure that you have run the pre-requisites of the workshop https://catalog.us-east-1.prod.workshops.aws/workshops/6c1a3147-7c51-4b64-a3ad-5c302b7b41d8/en-US/20-setup-sap-genai-hub-and-amazon-bedrock/1-index.\n",
                "# \n",
                "# - Amazon Nova models: \"amazon--nova-pro\", \"amazon--nova-lite\", \"amazon--nova-micro\"\n",
                "# - Anthropic Claude models: \"anthropic--claude-3.5-sonnet\", \"anthropic--claude-3-opus\", \"anthropic--claude-3-sonnet\", \"anthropic--claude-3-haiku\"\n",
                "# - Amazon Titan Text models: \"amazon--titan-text-lite\", \"amazon--titan-text-express\"\n",
                "# - Amazon Titan Embedding models: \"amazon--titan-embed-text\"\n",
                "\n",
                "model = SAPGenAIHubModel(model_id=\"amazon--nova-pro\",\n",
                "                        #  temperature = 0.3,\n",
                "                        #  top_p = 1,\n",
                "                        #  max_tokens = 25, \n",
                "                        #  stop_sequences = [ \"blab\" ],\n",
                "                         )"
            ]
        },
        {
            "cell_type": "markdown",
            "metadata": {},
            "source": [
                "## Create a Simple Agent\n",
                "\n",
                "Let's create a simple agent using the `SAPGenAIHubModel` and test it with a basic query."
            ]
        },
        {
            "cell_type": "code",
            "execution_count": null,
            "metadata": {},
            "outputs": [],
            "source": [
                "# Create an agent with the SAP GenAI Hub model\n",
                "agent = Agent(model=model)\n",
                "\n",
                "# Test the agent with a simple query\n",
                "# response = agent(\"What is the capital of Germany?\")\n",
                "response = agent(\"What is the name of the 32nd US president?\")\n",
                "print(response.message)"
            ]
        },
        {
            "cell_type": "markdown",
            "metadata": {},
            "source": [
                "## Create an Agent with System Prompt\n",
                "\n",
                "Now, let's create an agent with a custom system prompt to guide the model's behavior."
            ]
        },
        {
            "cell_type": "code",
            "execution_count": null,
            "metadata": {},
            "outputs": [],
            "source": [
                "# Create an agent with a system prompt\n",
                "agent_with_system_prompt = Agent(\n",
                "    model=model,\n",
                "    system_prompt=\"You are a helpful assistant that specializes in geography and only reply in german. Always provide detailed information about locations.\"\n",
                ")\n",
                "\n",
                "# Test the agent with a geography question\n",
                "response = agent_with_system_prompt(\"Tell me about Berlin.\")\n",
                "print(response.message)"
            ]
        },
        {
            "cell_type": "markdown",
            "metadata": {},
            "source": [
                "## Create an Agent with Tools\n",
                "\n",
                "Let's create an agent with tools to enhance its capabilities. We'll use the calculator and python_repl tools from the Strands SDK."
            ]
        },
        {
            "cell_type": "code",
            "execution_count": null,
            "metadata": {},
            "outputs": [],
            "source": [
                "from strands_tools import calculator, python_repl\n",
                "\n",
                "# Create an agent with tools\n",
                "agent_with_tools = Agent(\n",
                "    model=model,\n",
                "    tools=[calculator, python_repl],\n",
                "    system_prompt=\"You are a helpful assistant. You can use the tools to help you with your task.\"\n",
                ")\n",
                "\n",
                "# Test the agent with a calculation task\n",
                "response = agent_with_tools(\"Calculate the square root of 256 and then add 10 to the result.\")\n",
                "print(response.message)"
            ]
        },
        {
            "cell_type": "markdown",
            "metadata": {},
            "source": [
                "## Create a Custom Tool\n",
                "\n",
                "Let's create a custom tool for web search and use it with our agent."
            ]
        },
        {
            "cell_type": "code",
            "execution_count": null,
            "metadata": {},
            "outputs": [],
            "source": [
                "# Install duckduckgo-search if not already installed\n",
                "%pip install ddgs -q"
            ]
        },
        {
            "cell_type": "code",
            "execution_count": null,
            "metadata": {},
            "outputs": [],
            "source": [
                "# from duckduckgo_search import DDGS\n",
                "from ddgs import DDGS\n",
                "\n",
                "# Define custom tool\n",
                "@tool\n",
                "def web_search(query: str, max_results=5) -> dict:\n",
                "    \"\"\"Search the web for information.\"\"\"\n",
                "    results = \"\"\n",
                "    with DDGS() as ddgs:\n",
                "        results = [r for r in ddgs.text(query, max_results=max_results)]\n",
                "    return results\n",
                "\n",
                "# Create an agent with the custom tool\n",
                "agent_with_custom_tool = Agent(\n",
                "    model=model,\n",
                "    tools=[web_search],\n",
                "    system_prompt=\"You are a helpful assistant that can search the web for information.\"\n",
                ")\n",
                "\n",
                "# Test the agent with a search query\n",
                "response = agent_with_custom_tool(\"What are the latest developments in quantum computing?\")\n",
                "print(response.message)"
            ]
        },
        {
            "cell_type": "code",
            "execution_count": null,
            "metadata": {},
            "outputs": [],
            "source": [
                "agent_with_custom_tool.messages"
            ]
        },
        {
            "cell_type": "markdown",
            "metadata": {},
            "source": [
                "## Using Different Models\n",
                "\n",
                "Let's try using different models from SAP's GenAI Hub."
            ]
        },
        {
            "cell_type": "markdown",
            "metadata": {},
            "source": [
                "### Using Anthropic Claude Model"
            ]
        },
        {
            "cell_type": "code",
            "execution_count": null,
            "metadata": {},
            "outputs": [],
            "source": [
                "# Initialize the SAPGenAIHubModel with Claude 3 Sonnet\n",
                "claude_model = SAPGenAIHubModel(model_id=\"anthropic--claude-3.5-sonnet\",\n",
                "                                #  temperature = 0.3,\n",
                "                                #  top_p = 1,\n",
                "                                #  max_tokens = 25, \n",
                "                                #  stop_sequences = [ \"blab\" ],\n",
                "                                )\n",
                "\n",
                "# Create an agent with the Claude model\n",
                "claude_agent = Agent(\n",
                "    model=claude_model,\n",
                "    system_prompt=\"You are a helpful assistant that specializes in creative writing.\"\n",
                ")\n",
                "\n",
                "# Test the agent with a creative writing task\n",
                "response = claude_agent(\"Write a short poem about artificial intelligence.\")\n",
                "print(response.message)"
            ]
        },
        {
            "cell_type": "markdown",
            "metadata": {},
            "source": [
                "## Multi-Agent Workflow\n",
                "\n",
                "Finally, let's create a multi-agent workflow using the \"Agents as Tools\" pattern with our custom `SAPGenAIHubModel`."
            ]
        },
        {
            "cell_type": "code",
            "execution_count": null,
            "metadata": {},
            "outputs": [],
            "source": [
                "from textwrap import dedent\n",
                "\n",
                "@tool\n",
                "def research_assistant(query: str) -> str:\n",
                "    \"\"\"Research assistant that can search for information.\"\"\"\n",
                "    research_agent = Agent(\n",
                "        model=claude_model,\n",
                "        system_prompt=dedent(\n",
                "            \"\"\"You are a specialized research assistant. Focus only on providing\n",
                "            factual, well-sourced information in response to research questions.\n",
                "            Always cite your sources when possible.\"\"\"\n",
                "        ),\n",
                "        tools=[web_search]\n",
                "    )\n",
                "    return research_agent(query).message\n",
                "\n",
                "@tool\n",
                "def creative_writing_assistant(query: str) -> str:\n",
                "    \"\"\"Creative writing assistant that can generate creative content.\"\"\"\n",
                "    creative_agent = Agent(\n",
                "        model=model,\n",
                "        system_prompt=dedent(\n",
                "            \"\"\"You are a specialized creative writing assistant.\n",
                "            Create engaging and imaginative content based on user requests.\"\"\"\n",
                "        )\n",
                "    )\n",
                "    return creative_agent(query).message\n",
                "\n",
                "# Define orchestrator system prompt\n",
                "MAIN_SYSTEM_PROMPT = \"\"\"\n",
                "You are an assistant that routes queries to specialized agents:\n",
                "- For research questions and factual information → Use the research_assistant tool\n",
                "- For creative writing and content generation → Use the creative_writing_assistant tool\n",
                "- For simple questions not requiring specialized knowledge → Answer directly\n",
                "\n",
                "Always select the most appropriate tool based on the user's query.\n",
                "\"\"\"\n",
                "\n",
                "# Create the orchestrator agent\n",
                "orchestrator = Agent(\n",
                "    model=model,\n",
                "    system_prompt=MAIN_SYSTEM_PROMPT,\n",
                "    tools=[research_assistant, creative_writing_assistant]\n",
                ")"
            ]
        },
        {
            "cell_type": "code",
            "execution_count": null,
            "metadata": {},
            "outputs": [],
            "source": [
                "# Test the orchestrator with a research question\n",
                "response = orchestrator(\"What is the history of artificial intelligence?\")\n",
                "print(response.message)"
            ]
        },
        {
            "cell_type": "code",
            "execution_count": null,
            "metadata": {},
            "outputs": [],
            "source": [
                "# to understand what is happening between the orchestrator and sub-agents, you can uncomment list the messages\n",
                "# orchestrator.messages"
            ]
        },
        {
            "cell_type": "code",
            "execution_count": null,
            "metadata": {},
            "outputs": [],
            "source": [
                "# Test the orchestrator with a creative writing request\n",
                "response = orchestrator(\"Write a short story about a robot learning to be human.\")\n",
                "print(response.message)"
            ]
        },
        {
            "cell_type": "markdown",
            "metadata": {},
            "source": [
                "## Conclusion\n",
                "\n",
                "In this notebook, we demonstrated how to use the custom `SAPGenAIHubModel` class with the Strands Agents SDK to create AI agents that leverage SAP's GenAI Hub for consuming LLMs. We showed how to:\n",
                "\n",
                "1. Initialize the `SAPGenAIHubModel` with different models from SAP's GenAI Hub\n",
                "2. Create simple agents with and without system prompts\n",
                "3. Enhance agents with built-in and custom tools\n",
                "4. Create multi-agent workflows using the \"Agents as Tools\" pattern\n",
                "\n",
                "This integration allows you to leverage the power of SAP's GenAI Hub with the flexibility and extensibility of the Strands Agents SDK."
            ]
        },
        {
            "cell_type": "code",
            "execution_count": null,
            "metadata": {},
            "outputs": [],
            "source": [
                "# In case you want to troubleshoot something, the following debugs will help\n",
                "\n",
                "# import logging\n",
                "\n",
                "# logging.basicConfig(level=logging.DEBUG)\n",
                "# logger = logging.getLogger()\n",
                "# logger.setLevel(logging.DEBUG)"
            ]
        }
    ],
    "metadata": {
        "kernelspec": {
            "display_name": ".venv",
            "language": "python",
            "name": "python3"
        },
        "language_info": {
            "codemirror_mode": {
                "name": "ipython",
                "version": 3
            },
            "file_extension": ".py",
            "mimetype": "text/x-python",
            "name": "python",
            "nbconvert_exporter": "python",
            "pygments_lexer": "ipython3",
            "version": "3.13.2"
        }
    },
    "nbformat": 4,
    "nbformat_minor": 4
}
