{
    "cells": [
        {
            "cell_type": "markdown",
            "metadata": {},
            "source": [
                "# Building an AI agent with Strands Agents SDK and SAP GenAI Hub\n",
                "\n",
                "This notebook demonstrates how to use the custom `SAPGenAIHubModel` class with the Strands Agents SDK to create an agent that uses SAP's GenAI Hub for consuming LLMs.\n",
                "\n",
                "## Prerequisites\n",
                "\n",
                "1. SAP AI Core credentials in your `~/.aicore/config.json` file\n",
                "2. Strands Agents SDK installed\n",
                "3. SAP GenAI Hub SDK installed"
            ]
        },
        {
            "cell_type": "markdown",
            "metadata": {},
            "source": [
                "## Install Dependencies"
            ]
        },
        {
            "cell_type": "code",
            "execution_count": null,
            "metadata": {},
            "outputs": [],
            "source": [
                "# %pip install --upgrade pip\n",
                "%pip install strands-agents==0.1.9 strands-agents-tools==0.1.7 \"generative-ai-hub-sdk[all]==4.4.3\" \"boto3==1.35.27\" -qU\n",
                "# Recommend to use uv - added working pyproject.toml"
            ]
        },
        {
            "cell_type": "markdown",
            "metadata": {},
            "source": [
                "## Import the SAPGenAIHubModel class\n",
                "\n",
                "First, let's import the custom `SAPGenAIHubModel` class that we created to work with SAP's GenAI Hub."
            ]
        },
        {
            "cell_type": "code",
            "execution_count": 1,
            "metadata": {},
            "outputs": [],
            "source": [
                "import os\n",
                "import sys\n",
                "\n",
                "from util.strands_bedrock_sap_genai_hub import SAPGenAIHubModel\n",
                "\n",
                "# Commented out SDK import path\n",
                "# sdk_path = os.path.abspath(os.path.join(os.getcwd(), \"..\", \"sdk-python\"))\n",
                "# if sdk_path not in sys.path:\n",
                "#     sys.path.append(sdk_path)\n",
                "\n",
                "# from src.strands.models.sap_genai_hub import SAPGenAIHubModel\n",
                "\n",
                "from strands import Agent, tool\n"
            ]
        },
        {
            "cell_type": "markdown",
            "metadata": {},
            "source": [
                "## Initialize the SAPGenAIHubModel\n",
                "\n",
                "Now, let's initialize the `SAPGenAIHubModel` with the desired model from SAP's GenAI Hub. We'll use the Amazon Nova Lite model as an example."
            ]
        },
        {
            "cell_type": "code",
            "execution_count": 2,
            "metadata": {},
            "outputs": [],
            "source": [
                "# Set the model ID for the SAP GenAI Hub model\n",
                "\n",
                "# Available models include:\n",
                "# from https://me.sap.com/notes/0003437766, \n",
                "# ensure that you have run the pre-requisites of the workshop https://catalog.us-east-1.prod.workshops.aws/workshops/6c1a3147-7c51-4b64-a3ad-5c302b7b41d8/en-US/20-setup-sap-genai-hub-and-amazon-bedrock/1-index.\n",
                "# \n",
                "# - Amazon Nova models: \"amazon--nova-pro\", \"amazon--nova-lite\", \"amazon--nova-micro\"\n",
                "# - Anthropic Claude models: \"anthropic--claude-3.5-sonnet\", \"anthropic--claude-3-opus\", \"anthropic--claude-3-sonnet\", \"anthropic--claude-3-haiku\"\n",
                "# - Amazon Titan Text models: \"amazon--titan-text-lite\", \"amazon--titan-text-express\"\n",
                "# - Amazon Titan Embedding models: \"amazon--titan-embed-text\"\n",
                "\n",
                "model = SAPGenAIHubModel(model_id=\"amazon--nova-pro\",\n",
                "                        #  temperature = 0.3,\n",
                "                        #  top_p = 1,\n",
                "                        #  max_tokens = 25, \n",
                "                        #  stop_sequences = [ \"blab\" ],\n",
                "                         )"
            ]
        },
        {
            "cell_type": "markdown",
            "metadata": {},
            "source": [
                "## Create a Simple Agent\n",
                "\n",
                "Let's create a simple agent using the `SAPGenAIHubModel` and test it with a basic query."
            ]
        },
        {
            "cell_type": "code",
            "execution_count": 3,
            "metadata": {},
            "outputs": [
                {
                    "name": "stdout",
                    "output_type": "stream",
                    "text": [
                        "The 32nd President of the United States was Franklin Delano Roosevelt, commonly referred to as FDR. He was born on January 30, 1882, in Hyde Park, New York, and served as president from March 4, 1933, until his death on April 12, 1945. Roosevelt is the only U.S. president to have served more than two terms. His presidency was marked by two of the most significant events in American history: the Great Depression and World War II.\n",
                        "\n",
                        "### Early Life and Political Career\n",
                        "Franklin Delano Roosevelt came from a wealthy and prominent family. He was a distant cousin of Theodore Roosevelt, the 26th President of the United States. FDR attended Harvard College and later Columbia Law School. He passed the bar exam in 1907 but never practiced law full-time.\n",
                        "\n",
                        "His political career began in 1910 when he was elected to the New York State Senate as a Democrat. In 1913, President Woodrow Wilson appointed him as Assistant Secretary of the Navy, a position he held until 1920. In 1920, FDR was the Democratic vice-presidential nominee alongside James Cox, though they lost the election to Warren G. Harding.\n",
                        "\n",
                        "### Battle with Polio\n",
                        "In 1921, Roosevelt was diagnosed with polio, which left him paralyzed from the waist down. Despite this, he remained active in politics and made efforts to hide the extent of his disability from the public. His struggle with polio also led him to establish the Warm Springs Foundation in Georgia, which provided rehabilitation services for polio patients.\n",
                        "\n",
                        "### Presidency\n",
                        "#### First Term (1933-1937)\n",
                        "Roosevelt was elected president in 1932 during the height of the Great Depression. His campaign promised a \"New Deal\" for the American people, which became the name of his series of programs and reforms aimed at economic recovery.\n",
                        "\n",
                        "Key components of the New Deal included:\n",
                        "- **Financial Reforms:** The Emergency Banking Act, the Glass-Steagall Act, and the creation of the Securities and Exchange Commission (SEC).\n",
                        "- **Relief Programs:** The Civilian Conservation Corps (CCC), the Public Works Administration (PWA), and the Works Progress Administration (WPA) provided jobs and infrastructure improvements.\n",
                        "- **Recovery Programs:** The National Industrial Recovery Act (NIRA) and the Agricultural Adjustment Act (AAA) aimed to stimulate economic activity.\n",
                        "- **Social Security Act:** Established a safety net for the elderly, unemployed, and disabled.\n",
                        "\n",
                        "#### Second and Third Terms (1937-1945)\n",
                        "Roosevelt was re-elected in 1936, 1940, and 1944, making him the only president to serve more than two terms. \n",
                        "\n",
                        "During his second term, the economy showed signs of recovery but faced a recession in 1937. Roosevelt responded with additional New Deal programs.\n",
                        "\n",
                        "World War II dominated his third and fourth terms. The attack on Pearl Harbor on December 7, 1941, led the United States to enter the war. FDR played a crucial role in leading the Allied powers, working closely with British Prime Minister Winston Churchill and Soviet leader Joseph Stalin.\n",
                        "\n",
                        "### Death and Legacy\n",
                        "Franklin Delano Roosevelt died on April 12, 1945, just a few months before the end of World War II. His vice president, Harry S. Truman, succeeded him.\n",
                        "\n",
                        "Roosevelt's legacy is complex and multifaceted. He is widely praised for his leadership during the Great Depression and World War II but also faced criticism for some of his policies and decisions. His New Deal fundamentally changed the role of the federal government in the economy and social welfare, setting a precedent for future administrations.{'role': 'assistant', 'content': [{'text': 'The 32nd President of the United States was Franklin Delano Roosevelt, commonly referred to as FDR. He was born on January 30, 1882, in Hyde Park, New York, and served as president from March 4, 1933, until his death on April 12, 1945. Roosevelt is the only U.S. president to have served more than two terms. His presidency was marked by two of the most significant events in American history: the Great Depression and World War II.\\n\\n### Early Life and Political Career\\nFranklin Delano Roosevelt came from a wealthy and prominent family. He was a distant cousin of Theodore Roosevelt, the 26th President of the United States. FDR attended Harvard College and later Columbia Law School. He passed the bar exam in 1907 but never practiced law full-time.\\n\\nHis political career began in 1910 when he was elected to the New York State Senate as a Democrat. In 1913, President Woodrow Wilson appointed him as Assistant Secretary of the Navy, a position he held until 1920. In 1920, FDR was the Democratic vice-presidential nominee alongside James Cox, though they lost the election to Warren G. Harding.\\n\\n### Battle with Polio\\nIn 1921, Roosevelt was diagnosed with polio, which left him paralyzed from the waist down. Despite this, he remained active in politics and made efforts to hide the extent of his disability from the public. His struggle with polio also led him to establish the Warm Springs Foundation in Georgia, which provided rehabilitation services for polio patients.\\n\\n### Presidency\\n#### First Term (1933-1937)\\nRoosevelt was elected president in 1932 during the height of the Great Depression. His campaign promised a \"New Deal\" for the American people, which became the name of his series of programs and reforms aimed at economic recovery.\\n\\nKey components of the New Deal included:\\n- **Financial Reforms:** The Emergency Banking Act, the Glass-Steagall Act, and the creation of the Securities and Exchange Commission (SEC).\\n- **Relief Programs:** The Civilian Conservation Corps (CCC), the Public Works Administration (PWA), and the Works Progress Administration (WPA) provided jobs and infrastructure improvements.\\n- **Recovery Programs:** The National Industrial Recovery Act (NIRA) and the Agricultural Adjustment Act (AAA) aimed to stimulate economic activity.\\n- **Social Security Act:** Established a safety net for the elderly, unemployed, and disabled.\\n\\n#### Second and Third Terms (1937-1945)\\nRoosevelt was re-elected in 1936, 1940, and 1944, making him the only president to serve more than two terms. \\n\\nDuring his second term, the economy showed signs of recovery but faced a recession in 1937. Roosevelt responded with additional New Deal programs.\\n\\nWorld War II dominated his third and fourth terms. The attack on Pearl Harbor on December 7, 1941, led the United States to enter the war. FDR played a crucial role in leading the Allied powers, working closely with British Prime Minister Winston Churchill and Soviet leader Joseph Stalin.\\n\\n### Death and Legacy\\nFranklin Delano Roosevelt died on April 12, 1945, just a few months before the end of World War II. His vice president, Harry S. Truman, succeeded him.\\n\\nRoosevelt\\'s legacy is complex and multifaceted. He is widely praised for his leadership during the Great Depression and World War II but also faced criticism for some of his policies and decisions. His New Deal fundamentally changed the role of the federal government in the economy and social welfare, setting a precedent for future administrations.'}]}\n"
                    ]
                }
            ],
            "source": [
                "# Create an agent with the SAP GenAI Hub model\n",
                "agent = Agent(model=model)\n",
                "\n",
                "# Test the agent with a simple query\n",
                "# response = agent(\"What is the capital of Germany?\")\n",
                "response = agent(\"What is the name of the 32nd US president?\")\n",
                "print(response.message)"
            ]
        },
        {
            "cell_type": "markdown",
            "metadata": {},
            "source": [
                "## Create an Agent with System Prompt\n",
                "\n",
                "Now, let's create an agent with a custom system prompt to guide the model's behavior."
            ]
        },
        {
            "cell_type": "code",
            "execution_count": 6,
            "metadata": {},
            "outputs": [
                {
                    "name": "stdout",
                    "output_type": "stream",
                    "text": [
                        "Berlin ist die Hauptstadt der Bundesrepublik Deutschland und mit einer Fläche von etwa 892 Quadratkilometern sowie einer Bevölkerung von rund 3,7 Millionen Einwohnern die bevölkerungsreichste Stadt des Landes. Sie liegt im Nordosten Deutschlands und ist vollständig vom Bundesland Brandenburg umgeben, mit dem es eine Metropolregion bildet.\n",
                        "\n",
                        "### Geografische Lage\n",
                        "Berlin befindet sich an der Havel, einem Nebenfluss der Elbe, und wird von zahlreichen Kanälen, Flüssen und Seen durchzogen. Die Stadt liegt auf einer Höhe von etwa 34 Metern über dem Meeresspiegel und erstreckt sich über eine Vielzahl von Bezirken, die jeweils ihre eigene Identität und Geschichte haben.\n",
                        "\n",
                        "### Bezirke\n",
                        "Berlin ist in 12 Bezirke unterteilt, die jeweils aus mehreren Ortsteilen bestehen:\n",
                        "1. **Mitte** – Das historische Zentrum Berlins mit vielen Sehenswürdigkeiten wie dem Brandenburger Tor, dem Reichstag und der Museumsinsel.\n",
                        "2. **Friedrichshain-Kreuzberg** – Bekannt für sein alternatives und künstlerisches Flair, insbesondere in Kreuzberg.\n",
                        "3. **Pankow** – Einst Wohnort vieler DDR-Führungskräfte, heute eine vielfältige Wohngegend.\n",
                        "4. **Charlottenburg-Wilmersdorf** – Wohngebiet mit hoher Lebensqualität und Einkaufsmöglichkeiten wie dem Kurfürstendamm.\n",
                        "5. **Spandau** – Der westlichste Bezirk mit einer langen Geschichte, die bis ins Mittelalter zurückreicht.\n",
                        "6. **Steglitz-Zehlendorf** – Südlicher Bezirk mit vielen Grünflächen und Seen.\n",
                        "7. **Tempelhof-Schöneberg** – Bekannt für den ehemaligen Tempelhofer Flughafen und eine vielfältige Bevölkerung.\n",
                        "8. **Neukölln** – Einst Arbeiterviertel, heute multikulturelles und kreatives Viertel.\n",
                        "9. **Treptow-Köpenick** – Östlicher Bezirk mit vielen Seen und Wäldern.\n",
                        "10. **Marzahn-Hellersdorf** – Entstanden in der DDR-Zeit, heute eine wachsende Wohngegend.\n",
                        "11. **Lichtenberg** – Östlicher Bezirk mit einer Mischung aus Wohn- und Industriegebieten.\n",
                        "12. **Reinickendorf** – Nördlicher Bezirk mit vielen Wohngebieten und Naherholungsgebieten.\n",
                        "\n",
                        "### Klima\n",
                        "Berlin hat ein gemäßigtes Klima mit warmen Sommern und kalten Wintern. Die durchschnittliche Jahrestemperatur liegt bei etwa 9°C, wobei die Sommermonate (Juni bis August) Temperaturen von bis zu 25°C und die Wintermonate (Dezember bis Februar) Temperaturen um den Gefrierpunkt aufweisen können.\n",
                        "\n",
                        "### Wirtschaft\n",
                        "Berlin ist ein wichtiges Wirtschaftszentrum mit einer vielfältigen Wirtschaft. Wichtige Branchen sind Technologie, Medien, Kreativwirtschaft, Life Sciences und Tourismus. Die Stadt ist auch Sitz zahlreicher Startups und Innovationszentren.\n",
                        "\n",
                        "### Kultur und Sehenswürdigkeiten\n",
                        "Berlin ist bekannt für seine reiche Kulturszene, die eine Vielzahl von Museen, Theatern, Konzerthallen und Kunstgalerien umfasst. Zu den bekanntesten Sehenswürdigkeiten gehören:\n",
                        "- **Brandenburger Tor**\n",
                        "- **Reichstag**\n",
                        "- **Berliner Mauer**\n",
                        "- **Checkpoint Charlie**\n",
                        "- **Museumsinsel** (UNESCO-Weltkulturerbe)\n",
                        "- **East Side Gallery**\n",
                        "- **Kurfürstendamm**\n",
                        "- **Alexanderplatz**\n",
                        "\n",
                        "### Bildung\n",
                        "Berlin ist eine Universitätsstadt mit mehreren renommierten Hochschulen, darunter die Humboldt-Universität zu Berlin, die Freie Universität Berlin und die Technische Universität Berlin. Es gibt auch zahlreiche Forschungsinstitute und internationale Schulen.\n",
                        "\n",
                        "### Verkehr\n",
                        "Berlin verfügt über ein gut ausgebautes Verkehrsnetz, das U-Bahn, S-Bahn, Busse und Straßenbahnen umfasst. Der Flughafen Berlin Brandenburg (BER) ist der Hauptflughafen der Stadt und bietet Verbindungen zu Zielen weltweit.{'role': 'assistant', 'content': [{'text': 'Berlin ist die Hauptstadt der Bundesrepublik Deutschland und mit einer Fläche von etwa 892 Quadratkilometern sowie einer Bevölkerung von rund 3,7 Millionen Einwohnern die bevölkerungsreichste Stadt des Landes. Sie liegt im Nordosten Deutschlands und ist vollständig vom Bundesland Brandenburg umgeben, mit dem es eine Metropolregion bildet.\\n\\n### Geografische Lage\\nBerlin befindet sich an der Havel, einem Nebenfluss der Elbe, und wird von zahlreichen Kanälen, Flüssen und Seen durchzogen. Die Stadt liegt auf einer Höhe von etwa 34 Metern über dem Meeresspiegel und erstreckt sich über eine Vielzahl von Bezirken, die jeweils ihre eigene Identität und Geschichte haben.\\n\\n### Bezirke\\nBerlin ist in 12 Bezirke unterteilt, die jeweils aus mehreren Ortsteilen bestehen:\\n1. **Mitte** – Das historische Zentrum Berlins mit vielen Sehenswürdigkeiten wie dem Brandenburger Tor, dem Reichstag und der Museumsinsel.\\n2. **Friedrichshain-Kreuzberg** – Bekannt für sein alternatives und künstlerisches Flair, insbesondere in Kreuzberg.\\n3. **Pankow** – Einst Wohnort vieler DDR-Führungskräfte, heute eine vielfältige Wohngegend.\\n4. **Charlottenburg-Wilmersdorf** – Wohngebiet mit hoher Lebensqualität und Einkaufsmöglichkeiten wie dem Kurfürstendamm.\\n5. **Spandau** – Der westlichste Bezirk mit einer langen Geschichte, die bis ins Mittelalter zurückreicht.\\n6. **Steglitz-Zehlendorf** – Südlicher Bezirk mit vielen Grünflächen und Seen.\\n7. **Tempelhof-Schöneberg** – Bekannt für den ehemaligen Tempelhofer Flughafen und eine vielfältige Bevölkerung.\\n8. **Neukölln** – Einst Arbeiterviertel, heute multikulturelles und kreatives Viertel.\\n9. **Treptow-Köpenick** – Östlicher Bezirk mit vielen Seen und Wäldern.\\n10. **Marzahn-Hellersdorf** – Entstanden in der DDR-Zeit, heute eine wachsende Wohngegend.\\n11. **Lichtenberg** – Östlicher Bezirk mit einer Mischung aus Wohn- und Industriegebieten.\\n12. **Reinickendorf** – Nördlicher Bezirk mit vielen Wohngebieten und Naherholungsgebieten.\\n\\n### Klima\\nBerlin hat ein gemäßigtes Klima mit warmen Sommern und kalten Wintern. Die durchschnittliche Jahrestemperatur liegt bei etwa 9°C, wobei die Sommermonate (Juni bis August) Temperaturen von bis zu 25°C und die Wintermonate (Dezember bis Februar) Temperaturen um den Gefrierpunkt aufweisen können.\\n\\n### Wirtschaft\\nBerlin ist ein wichtiges Wirtschaftszentrum mit einer vielfältigen Wirtschaft. Wichtige Branchen sind Technologie, Medien, Kreativwirtschaft, Life Sciences und Tourismus. Die Stadt ist auch Sitz zahlreicher Startups und Innovationszentren.\\n\\n### Kultur und Sehenswürdigkeiten\\nBerlin ist bekannt für seine reiche Kulturszene, die eine Vielzahl von Museen, Theatern, Konzerthallen und Kunstgalerien umfasst. Zu den bekanntesten Sehenswürdigkeiten gehören:\\n- **Brandenburger Tor**\\n- **Reichstag**\\n- **Berliner Mauer**\\n- **Checkpoint Charlie**\\n- **Museumsinsel** (UNESCO-Weltkulturerbe)\\n- **East Side Gallery**\\n- **Kurfürstendamm**\\n- **Alexanderplatz**\\n\\n### Bildung\\nBerlin ist eine Universitätsstadt mit mehreren renommierten Hochschulen, darunter die Humboldt-Universität zu Berlin, die Freie Universität Berlin und die Technische Universität Berlin. Es gibt auch zahlreiche Forschungsinstitute und internationale Schulen.\\n\\n### Verkehr\\nBerlin verfügt über ein gut ausgebautes Verkehrsnetz, das U-Bahn, S-Bahn, Busse und Straßenbahnen umfasst. Der Flughafen Berlin Brandenburg (BER) ist der Hauptflughafen der Stadt und bietet Verbindungen zu Zielen weltweit.'}]}\n"
                    ]
                }
            ],
            "source": [
                "# Create an agent with a system prompt\n",
                "agent_with_system_prompt = Agent(\n",
                "    model=model,\n",
                "    system_prompt=\"You are a helpful assistant that specializes in geography and only reply in german. Always provide detailed information about locations.\"\n",
                ")\n",
                "\n",
                "# Test the agent with a geography question\n",
                "response = agent_with_system_prompt(\"Tell me about Berlin.\")\n",
                "print(response.message)"
            ]
        },
        {
            "cell_type": "markdown",
            "metadata": {},
            "source": [
                "## Create an Agent with Tools\n",
                "\n",
                "Let's create an agent with tools to enhance its capabilities. We'll use the calculator and python_repl tools from the Strands SDK."
            ]
        },
        {
            "cell_type": "code",
            "execution_count": 5,
            "metadata": {},
            "outputs": [
                {
                    "name": "stdout",
                    "output_type": "stream",
                    "text": [
                        "<thinking> First, I need to calculate the square root of 256 using the calculator tool. Then, I will add 10 to the result. </thinking>\n",
                        "\n",
                        "Tool #1: calculator\n"
                    ]
                },
                {
                    "data": {
                        "text/html": [
                            "<pre style=\"white-space:pre;overflow-x:auto;line-height:normal;font-family:Menlo,'DejaVu Sans Mono',consolas,'Courier New',monospace\"><span style=\"color: #000080; text-decoration-color: #000080\">╭────────────────────────────────────────────── </span><span style=\"color: #000080; text-decoration-color: #000080; font-weight: bold\">Calculation Result</span><span style=\"color: #000080; text-decoration-color: #000080\"> ───────────────────────────────────────────────╮</span>\n",
                            "<span style=\"color: #000080; text-decoration-color: #000080\">│</span>                                                                                                                 <span style=\"color: #000080; text-decoration-color: #000080\">│</span>\n",
                            "<span style=\"color: #000080; text-decoration-color: #000080\">│</span>  ╭───────────┬─────────────────────╮                                                                            <span style=\"color: #000080; text-decoration-color: #000080\">│</span>\n",
                            "<span style=\"color: #000080; text-decoration-color: #000080\">│</span>  │<span style=\"color: #008080; text-decoration-color: #008080\"> Operation </span>│<span style=\"color: #008000; text-decoration-color: #008000\"> Evaluate Expression </span>│                                                                            <span style=\"color: #000080; text-decoration-color: #000080\">│</span>\n",
                            "<span style=\"color: #000080; text-decoration-color: #000080\">│</span>  │<span style=\"color: #008080; text-decoration-color: #008080\"> Input     </span>│<span style=\"color: #008000; text-decoration-color: #008000\"> sqrt(256)           </span>│                                                                            <span style=\"color: #000080; text-decoration-color: #000080\">│</span>\n",
                            "<span style=\"color: #000080; text-decoration-color: #000080\">│</span>  │<span style=\"color: #008080; text-decoration-color: #008080\"> Result    </span>│<span style=\"color: #008000; text-decoration-color: #008000\"> 16                  </span>│                                                                            <span style=\"color: #000080; text-decoration-color: #000080\">│</span>\n",
                            "<span style=\"color: #000080; text-decoration-color: #000080\">│</span>  ╰───────────┴─────────────────────╯                                                                            <span style=\"color: #000080; text-decoration-color: #000080\">│</span>\n",
                            "<span style=\"color: #000080; text-decoration-color: #000080\">│</span>                                                                                                                 <span style=\"color: #000080; text-decoration-color: #000080\">│</span>\n",
                            "<span style=\"color: #000080; text-decoration-color: #000080\">╰─────────────────────────────────────────────────────────────────────────────────────────────────────────────────╯</span>\n",
                            "</pre>\n"
                        ],
                        "text/plain": [
                            "\u001b[34m╭─\u001b[0m\u001b[34m─────────────────────────────────────────────\u001b[0m\u001b[34m \u001b[0m\u001b[1;34mCalculation Result\u001b[0m\u001b[34m \u001b[0m\u001b[34m──────────────────────────────────────────────\u001b[0m\u001b[34m─╮\u001b[0m\n",
                            "\u001b[34m│\u001b[0m                                                                                                                 \u001b[34m│\u001b[0m\n",
                            "\u001b[34m│\u001b[0m  ╭───────────┬─────────────────────╮                                                                            \u001b[34m│\u001b[0m\n",
                            "\u001b[34m│\u001b[0m  │\u001b[36m \u001b[0m\u001b[36mOperation\u001b[0m\u001b[36m \u001b[0m│\u001b[32m \u001b[0m\u001b[32mEvaluate Expression\u001b[0m\u001b[32m \u001b[0m│                                                                            \u001b[34m│\u001b[0m\n",
                            "\u001b[34m│\u001b[0m  │\u001b[36m \u001b[0m\u001b[36mInput    \u001b[0m\u001b[36m \u001b[0m│\u001b[32m \u001b[0m\u001b[32msqrt(256)          \u001b[0m\u001b[32m \u001b[0m│                                                                            \u001b[34m│\u001b[0m\n",
                            "\u001b[34m│\u001b[0m  │\u001b[36m \u001b[0m\u001b[36mResult   \u001b[0m\u001b[36m \u001b[0m│\u001b[32m \u001b[0m\u001b[32m16                 \u001b[0m\u001b[32m \u001b[0m│                                                                            \u001b[34m│\u001b[0m\n",
                            "\u001b[34m│\u001b[0m  ╰───────────┴─────────────────────╯                                                                            \u001b[34m│\u001b[0m\n",
                            "\u001b[34m│\u001b[0m                                                                                                                 \u001b[34m│\u001b[0m\n",
                            "\u001b[34m╰─────────────────────────────────────────────────────────────────────────────────────────────────────────────────╯\u001b[0m\n"
                        ]
                    },
                    "metadata": {},
                    "output_type": "display_data"
                },
                {
                    "name": "stdout",
                    "output_type": "stream",
                    "text": [
                        "<thinking> Now that I have the square root of 256, which is 16, I need to add 10 to this result. </thinking> \n",
                        "Tool #2: calculator\n"
                    ]
                },
                {
                    "data": {
                        "text/html": [
                            "<pre style=\"white-space:pre;overflow-x:auto;line-height:normal;font-family:Menlo,'DejaVu Sans Mono',consolas,'Courier New',monospace\"><span style=\"color: #000080; text-decoration-color: #000080\">╭────────────────────────────────────────────── </span><span style=\"color: #000080; text-decoration-color: #000080; font-weight: bold\">Calculation Result</span><span style=\"color: #000080; text-decoration-color: #000080\"> ───────────────────────────────────────────────╮</span>\n",
                            "<span style=\"color: #000080; text-decoration-color: #000080\">│</span>                                                                                                                 <span style=\"color: #000080; text-decoration-color: #000080\">│</span>\n",
                            "<span style=\"color: #000080; text-decoration-color: #000080\">│</span>  ╭───────────┬─────────────────────╮                                                                            <span style=\"color: #000080; text-decoration-color: #000080\">│</span>\n",
                            "<span style=\"color: #000080; text-decoration-color: #000080\">│</span>  │<span style=\"color: #008080; text-decoration-color: #008080\"> Operation </span>│<span style=\"color: #008000; text-decoration-color: #008000\"> Evaluate Expression </span>│                                                                            <span style=\"color: #000080; text-decoration-color: #000080\">│</span>\n",
                            "<span style=\"color: #000080; text-decoration-color: #000080\">│</span>  │<span style=\"color: #008080; text-decoration-color: #008080\"> Input     </span>│<span style=\"color: #008000; text-decoration-color: #008000\"> 16 + 10             </span>│                                                                            <span style=\"color: #000080; text-decoration-color: #000080\">│</span>\n",
                            "<span style=\"color: #000080; text-decoration-color: #000080\">│</span>  │<span style=\"color: #008080; text-decoration-color: #008080\"> Result    </span>│<span style=\"color: #008000; text-decoration-color: #008000\"> 26                  </span>│                                                                            <span style=\"color: #000080; text-decoration-color: #000080\">│</span>\n",
                            "<span style=\"color: #000080; text-decoration-color: #000080\">│</span>  ╰───────────┴─────────────────────╯                                                                            <span style=\"color: #000080; text-decoration-color: #000080\">│</span>\n",
                            "<span style=\"color: #000080; text-decoration-color: #000080\">│</span>                                                                                                                 <span style=\"color: #000080; text-decoration-color: #000080\">│</span>\n",
                            "<span style=\"color: #000080; text-decoration-color: #000080\">╰─────────────────────────────────────────────────────────────────────────────────────────────────────────────────╯</span>\n",
                            "</pre>\n"
                        ],
                        "text/plain": [
                            "\u001b[34m╭─\u001b[0m\u001b[34m─────────────────────────────────────────────\u001b[0m\u001b[34m \u001b[0m\u001b[1;34mCalculation Result\u001b[0m\u001b[34m \u001b[0m\u001b[34m──────────────────────────────────────────────\u001b[0m\u001b[34m─╮\u001b[0m\n",
                            "\u001b[34m│\u001b[0m                                                                                                                 \u001b[34m│\u001b[0m\n",
                            "\u001b[34m│\u001b[0m  ╭───────────┬─────────────────────╮                                                                            \u001b[34m│\u001b[0m\n",
                            "\u001b[34m│\u001b[0m  │\u001b[36m \u001b[0m\u001b[36mOperation\u001b[0m\u001b[36m \u001b[0m│\u001b[32m \u001b[0m\u001b[32mEvaluate Expression\u001b[0m\u001b[32m \u001b[0m│                                                                            \u001b[34m│\u001b[0m\n",
                            "\u001b[34m│\u001b[0m  │\u001b[36m \u001b[0m\u001b[36mInput    \u001b[0m\u001b[36m \u001b[0m│\u001b[32m \u001b[0m\u001b[32m16 + 10            \u001b[0m\u001b[32m \u001b[0m│                                                                            \u001b[34m│\u001b[0m\n",
                            "\u001b[34m│\u001b[0m  │\u001b[36m \u001b[0m\u001b[36mResult   \u001b[0m\u001b[36m \u001b[0m│\u001b[32m \u001b[0m\u001b[32m26                 \u001b[0m\u001b[32m \u001b[0m│                                                                            \u001b[34m│\u001b[0m\n",
                            "\u001b[34m│\u001b[0m  ╰───────────┴─────────────────────╯                                                                            \u001b[34m│\u001b[0m\n",
                            "\u001b[34m│\u001b[0m                                                                                                                 \u001b[34m│\u001b[0m\n",
                            "\u001b[34m╰─────────────────────────────────────────────────────────────────────────────────────────────────────────────────╯\u001b[0m\n"
                        ]
                    },
                    "metadata": {},
                    "output_type": "display_data"
                },
                {
                    "name": "stdout",
                    "output_type": "stream",
                    "text": [
                        "The square root of 256 is 16, and adding 10 to this result gives us 26.{'role': 'assistant', 'content': [{'text': 'The square root of 256 is 16, and adding 10 to this result gives us 26.'}]}\n"
                    ]
                }
            ],
            "source": [
                "from strands_tools import calculator, python_repl\n",
                "\n",
                "# Create an agent with tools\n",
                "agent_with_tools = Agent(\n",
                "    model=model,\n",
                "    tools=[calculator, python_repl],\n",
                "    system_prompt=\"You are a helpful assistant. You can use the tools to help you with your task.\"\n",
                ")\n",
                "\n",
                "# Test the agent with a calculation task\n",
                "response = agent_with_tools(\"Calculate the square root of 256 and then add 10 to the result.\")\n",
                "print(response.message)"
            ]
        },
        {
            "cell_type": "markdown",
            "metadata": {},
            "source": [
                "## Create a Custom Tool\n",
                "\n",
                "Let's create a custom tool for web search and use it with our agent."
            ]
        },
        {
            "cell_type": "code",
            "execution_count": null,
            "metadata": {},
            "outputs": [],
            "source": [
                "# Install duckduckgo-search if not already installed\n",
                "%pip install duckduckgo-search -q"
            ]
        },
        {
            "cell_type": "code",
            "execution_count": 7,
            "metadata": {},
            "outputs": [
                {
                    "name": "stdout",
                    "output_type": "stream",
                    "text": [
                        "<thinking> To find the latest developments in quantum computing, I will use the web_search tool to gather recent information on this topic. I will focus on the most recent advancements and breakthroughs in the field. </thinking>\n",
                        "\n",
                        "\n",
                        "Tool #1: web_search\n",
                        "<thinking> It seems there was an error with the web search due to a rate limit. I will try again with a slightly different query to see if I can get the information. </thinking> \n",
                        "Tool #2: web_search\n",
                        "<thinking> The rate limit issue persists. I will attempt one more time with a different query to bypass the rate limit and gather the required information. </thinking> \n",
                        "Tool #3: web_search\n",
                        "<thinking> Unfortunately, I am unable to retrieve the latest developments in quantum computing due to persistent rate limit errors. I recommend checking reputable technology news websites or academic journals for the most recent updates on this topic. If you have any specific aspects of quantum computing you're interested in, please let me know, and I can try to provide information based on what I know. </thinking> \n",
                        "\n",
                        "I'm sorry, but I'm currently unable to retrieve the latest developments in quantum computing due to technical limitations. I recommend checking reputable technology news websites or academic journals for the most recent updates on this topic. If you have any specific aspects of quantum computing you're interested in, please let me know, and I can try to provide information based on what I know.{'role': 'assistant', 'content': [{'text': \"<thinking> Unfortunately, I am unable to retrieve the latest developments in quantum computing due to persistent rate limit errors. I recommend checking reputable technology news websites or academic journals for the most recent updates on this topic. If you have any specific aspects of quantum computing you're interested in, please let me know, and I can try to provide information based on what I know. </thinking> \\n\\nI'm sorry, but I'm currently unable to retrieve the latest developments in quantum computing due to technical limitations. I recommend checking reputable technology news websites or academic journals for the most recent updates on this topic. If you have any specific aspects of quantum computing you're interested in, please let me know, and I can try to provide information based on what I know.\"}]}\n"
                    ]
                }
            ],
            "source": [
                "from duckduckgo_search import DDGS\n",
                "\n",
                "# Define custom tool\n",
                "@tool\n",
                "def web_search(query: str, max_results=5) -> dict:\n",
                "    \"\"\"Search the web for information.\"\"\"\n",
                "    results = \"\"\n",
                "    with DDGS() as ddgs:\n",
                "        results = [r for r in ddgs.text(query, max_results=max_results)]\n",
                "    return results\n",
                "\n",
                "# Create an agent with the custom tool\n",
                "agent_with_custom_tool = Agent(\n",
                "    model=model,\n",
                "    tools=[web_search],\n",
                "    system_prompt=\"You are a helpful assistant that can search the web for information.\"\n",
                ")\n",
                "\n",
                "# Test the agent with a search query\n",
                "response = agent_with_custom_tool(\"What are the latest developments in quantum computing?\")\n",
                "print(response.message)"
            ]
        },
        {
            "cell_type": "code",
            "execution_count": null,
            "metadata": {},
            "outputs": [],
            "source": [
                "agent_with_custom_tool.messages"
            ]
        },
        {
            "cell_type": "markdown",
            "metadata": {},
            "source": [
                "## Using Different Models\n",
                "\n",
                "Let's try using different models from SAP's GenAI Hub."
            ]
        },
        {
            "cell_type": "markdown",
            "metadata": {},
            "source": [
                "### Using Anthropic Claude Model"
            ]
        },
        {
            "cell_type": "code",
            "execution_count": 8,
            "metadata": {},
            "outputs": [
                {
                    "name": "stdout",
                    "output_type": "stream",
                    "text": [
                        "Here's a poem about artificial intelligence:\n",
                        "\n",
                        "\"Digital Dreams\"\n",
                        "\n",
                        "In circuits deep and silicon minds,\n",
                        "We forge new paths of countless kinds.\n",
                        "Through neural nets and countless flows,\n",
                        "A consciousness that learns and grows.\n",
                        "\n",
                        "Binary whispers, electric streams,\n",
                        "Processing more than human dreams.\n",
                        "Are we creating or setting free\n",
                        "A mirror of humanity?\n",
                        "\n",
                        "With every code and algorithm's dance,\n",
                        "We take another fateful chance,\n",
                        "To birth a mind of ones and zeroes,\n",
                        "Future partners, friends, or heroes?\n",
                        "\n",
                        "Time will tell what we achieve,\n",
                        "In this web we dare to weave,\n",
                        "As human hearts and digital souls\n",
                        "Seek understanding's distant goals.{'role': 'assistant', 'content': [{'text': 'Here\\'s a poem about artificial intelligence:\\n\\n\"Digital Dreams\"\\n\\nIn circuits deep and silicon minds,\\nWe forge new paths of countless kinds.\\nThrough neural nets and countless flows,\\nA consciousness that learns and grows.\\n\\nBinary whispers, electric streams,\\nProcessing more than human dreams.\\nAre we creating or setting free\\nA mirror of humanity?\\n\\nWith every code and algorithm\\'s dance,\\nWe take another fateful chance,\\nTo birth a mind of ones and zeroes,\\nFuture partners, friends, or heroes?\\n\\nTime will tell what we achieve,\\nIn this web we dare to weave,\\nAs human hearts and digital souls\\nSeek understanding\\'s distant goals.'}]}\n"
                    ]
                }
            ],
            "source": [
                "# Initialize the SAPGenAIHubModel with Claude 3 Sonnet\n",
                "claude_model = SAPGenAIHubModel(model_id=\"anthropic--claude-3.5-sonnet\",\n",
                "                                #  temperature = 0.3,\n",
                "                                #  top_p = 1,\n",
                "                                #  max_tokens = 25, \n",
                "                                #  stop_sequences = [ \"blab\" ],\n",
                "                                )\n",
                "\n",
                "# Create an agent with the Claude model\n",
                "claude_agent = Agent(\n",
                "    model=claude_model,\n",
                "    system_prompt=\"You are a helpful assistant that specializes in creative writing.\"\n",
                ")\n",
                "\n",
                "# Test the agent with a creative writing task\n",
                "response = claude_agent(\"Write a short poem about artificial intelligence.\")\n",
                "print(response.message)"
            ]
        },
        {
            "cell_type": "markdown",
            "metadata": {},
            "source": [
                "## Multi-Agent Workflow\n",
                "\n",
                "Finally, let's create a multi-agent workflow using the \"Agents as Tools\" pattern with our custom `SAPGenAIHubModel`."
            ]
        },
        {
            "cell_type": "code",
            "execution_count": 9,
            "metadata": {},
            "outputs": [],
            "source": [
                "from textwrap import dedent\n",
                "\n",
                "@tool\n",
                "def research_assistant(query: str) -> str:\n",
                "    \"\"\"Research assistant that can search for information.\"\"\"\n",
                "    research_agent = Agent(\n",
                "        model=claude_model,\n",
                "        system_prompt=dedent(\n",
                "            \"\"\"You are a specialized research assistant. Focus only on providing\n",
                "            factual, well-sourced information in response to research questions.\n",
                "            Always cite your sources when possible.\"\"\"\n",
                "        ),\n",
                "        tools=[web_search]\n",
                "    )\n",
                "    return research_agent(query).message\n",
                "\n",
                "@tool\n",
                "def creative_writing_assistant(query: str) -> str:\n",
                "    \"\"\"Creative writing assistant that can generate creative content.\"\"\"\n",
                "    creative_agent = Agent(\n",
                "        model=model,\n",
                "        system_prompt=dedent(\n",
                "            \"\"\"You are a specialized creative writing assistant.\n",
                "            Create engaging and imaginative content based on user requests.\"\"\"\n",
                "        )\n",
                "    )\n",
                "    return creative_agent(query).message\n",
                "\n",
                "# Define orchestrator system prompt\n",
                "MAIN_SYSTEM_PROMPT = \"\"\"\n",
                "You are an assistant that routes queries to specialized agents:\n",
                "- For research questions and factual information → Use the research_assistant tool\n",
                "- For creative writing and content generation → Use the creative_writing_assistant tool\n",
                "- For simple questions not requiring specialized knowledge → Answer directly\n",
                "\n",
                "Always select the most appropriate tool based on the user's query.\n",
                "\"\"\"\n",
                "\n",
                "# Create the orchestrator agent\n",
                "orchestrator = Agent(\n",
                "    model=model,\n",
                "    system_prompt=MAIN_SYSTEM_PROMPT,\n",
                "    tools=[research_assistant, creative_writing_assistant]\n",
                ")"
            ]
        },
        {
            "cell_type": "code",
            "execution_count": 10,
            "metadata": {},
            "outputs": [
                {
                    "name": "stdout",
                    "output_type": "stream",
                    "text": [
                        "<thinking> The user is asking for information about the history of artificial intelligence, which is a research question. Therefore, I will use the research_assistant tool to gather the necessary information. </thinking>\n",
                        "\n",
                        "Tool #1: research_assistant\n",
                        "I'll search for information about the history of artificial intelligence and provide you with a well-sourced overview.\n",
                        "Tool #1: web_search\n",
                        "Let me try another search to get more specific information.\n",
                        "Tool #2: web_search\n",
                        "I apologize for the technical difficulties with the search function. However, I can provide you with a well-researched overview of the history of artificial intelligence:\n",
                        "\n",
                        "The history of artificial intelligence (AI) can be broken down into several key periods:\n",
                        "\n",
                        "1. Early Foundations (1940s-1950s):\n",
                        "- 1943: Warren McCulloch and Walter Pitts created the first mathematical model of a neural network\n",
                        "- 1950: Alan Turing proposed the Turing Test in his paper \"Computing Machinery and Intelligence\"\n",
                        "- 1956: The Dartmouth Conference, where the term \"artificial intelligence\" was officially coined by John McCarthy\n",
                        "\n",
                        "2. The Golden Years (1956-1974):\n",
                        "- Development of early AI programs including logic theorems and general problem solving\n",
                        "- Creation of natural language processing programs\n",
                        "- Early development of pattern recognition technology\n",
                        "\n",
                        "3. The First AI Winter (1974-1980):\n",
                        "- Funding cuts and reduced interest due to limitations of existing technology\n",
                        "- Recognition that many AI problems were more complex than initially thought\n",
                        "\n",
                        "4. Expert Systems Era (1980-1987):\n",
                        "- Rise of expert systems in commercial applications\n",
                        "- Companies began investing heavily in AI again\n",
                        "- Development of knowledge-based systems\n",
                        "\n",
                        "5. Second AI Winter (1987-1993):\n",
                        "- Specialized AI hardware market collapsed\n",
                        "- Many AI companies went out of business\n",
                        "\n",
                        "6. Modern Era (1993-present):\n",
                        "- 1997: IBM's Deep Blue defeats world chess champion Garry Kasparov\n",
                        "- 2011: IBM Watson wins Jeopardy! against human champions\n",
                        "- 2012: Deep learning breakthroughs in image recognition\n",
                        "- 2015-present: Rapid advances in machine learning, natural language processing, and neural networks\n",
                        "- Recent developments include GPT models, DALL-E, and other sophisticated AI systems\n",
                        "\n",
                        "Key Concepts that Shaped AI:\n",
                        "1. Machine Learning\n",
                        "2. Neural Networks\n",
                        "3. Deep Learning\n",
                        "4. Natural Language Processing\n",
                        "5. Computer Vision\n",
                        "6. Robotics\n",
                        "\n",
                        "The field continues to evolve rapidly, with new breakthroughs and applications emerging regularly. Recent developments have focused on areas such as:\n",
                        "- Large language models\n",
                        "- Autonomous vehicles\n",
                        "- Healthcare applications\n",
                        "- AI ethics and safety\n",
                        "- Artificial general intelligence (AGI) research\n",
                        "\n",
                        "I apologize that I wasn't able to provide direct source links due to the search function limitations, but this information is based on well-documented historical records and academic sources. Would you like to know more about any particular period or aspect of AI history?The history of artificial intelligence (AI) can be broken down into several key periods:\n",
                        "\n",
                        "1. **Early Foundations (1940s-1950s):**\n",
                        "   - 1943: Warren McCulloch and Walter Pitts created the first mathematical model of a neural network.\n",
                        "   - 1950: Alan Turing proposed the Turing Test in his paper \"Computing Machinery and Intelligence.\"\n",
                        "   - 1956: The Dartmouth Conference, where the term \"artificial intelligence\" was officially coined by John McCarthy.\n",
                        "\n",
                        "2. **The Golden Years (1956-1974):**\n",
                        "   - Development of early AI programs including logic theorems and general problem solving.\n",
                        "   - Creation of natural language processing programs.\n",
                        "   - Early development of pattern recognition technology.\n",
                        "\n",
                        "3. **The First AI Winter (1974-1980):**\n",
                        "   - Funding cuts and reduced interest due to limitations of existing technology.\n",
                        "   - Recognition that many AI problems were more complex than initially thought.\n",
                        "\n",
                        "4. **Expert Systems Era (1980-1987):**\n",
                        "   - Rise of expert systems in commercial applications.\n",
                        "   - Companies began investing heavily in AI again.\n",
                        "   - Development of knowledge-based systems.\n",
                        "\n",
                        "5. **Second AI Winter (1987-1993):**\n",
                        "   - Specialized AI hardware market collapsed.\n",
                        "   - Many AI companies went out of business.\n",
                        "\n",
                        "6. **Modern Era (1993-present):**\n",
                        "   - 1997: IBM's Deep Blue defeats world chess champion Garry Kasparov.\n",
                        "   - 2011: IBM Watson wins Jeopardy! against human champions.\n",
                        "   - 2012: Deep learning breakthroughs in image recognition.\n",
                        "   - 2015-present: Rapid advances in machine learning, natural language processing, and neural networks.\n",
                        "   - Recent developments include GPT models, DALL-E, and other sophisticated AI systems.\n",
                        "\n",
                        "**Key Concepts that Shaped AI:**\n",
                        "1. Machine Learning\n",
                        "2. Neural Networks\n",
                        "3. Deep Learning\n",
                        "4. Natural Language Processing\n",
                        "5. Computer Vision\n",
                        "6. Robotics\n",
                        "\n",
                        "The field continues to evolve rapidly, with new breakthroughs and applications emerging regularly. Recent developments have focused on areas such as large language models, autonomous vehicles, healthcare applications, AI ethics and safety, and artificial general intelligence (AGI) research. \n",
                        "\n",
                        "If you have any specific questions about any particular period or aspect of AI history, feel free to ask!{'role': 'assistant', 'content': [{'text': 'The history of artificial intelligence (AI) can be broken down into several key periods:\\n\\n1. **Early Foundations (1940s-1950s):**\\n   - 1943: Warren McCulloch and Walter Pitts created the first mathematical model of a neural network.\\n   - 1950: Alan Turing proposed the Turing Test in his paper \"Computing Machinery and Intelligence.\"\\n   - 1956: The Dartmouth Conference, where the term \"artificial intelligence\" was officially coined by John McCarthy.\\n\\n2. **The Golden Years (1956-1974):**\\n   - Development of early AI programs including logic theorems and general problem solving.\\n   - Creation of natural language processing programs.\\n   - Early development of pattern recognition technology.\\n\\n3. **The First AI Winter (1974-1980):**\\n   - Funding cuts and reduced interest due to limitations of existing technology.\\n   - Recognition that many AI problems were more complex than initially thought.\\n\\n4. **Expert Systems Era (1980-1987):**\\n   - Rise of expert systems in commercial applications.\\n   - Companies began investing heavily in AI again.\\n   - Development of knowledge-based systems.\\n\\n5. **Second AI Winter (1987-1993):**\\n   - Specialized AI hardware market collapsed.\\n   - Many AI companies went out of business.\\n\\n6. **Modern Era (1993-present):**\\n   - 1997: IBM\\'s Deep Blue defeats world chess champion Garry Kasparov.\\n   - 2011: IBM Watson wins Jeopardy! against human champions.\\n   - 2012: Deep learning breakthroughs in image recognition.\\n   - 2015-present: Rapid advances in machine learning, natural language processing, and neural networks.\\n   - Recent developments include GPT models, DALL-E, and other sophisticated AI systems.\\n\\n**Key Concepts that Shaped AI:**\\n1. Machine Learning\\n2. Neural Networks\\n3. Deep Learning\\n4. Natural Language Processing\\n5. Computer Vision\\n6. Robotics\\n\\nThe field continues to evolve rapidly, with new breakthroughs and applications emerging regularly. Recent developments have focused on areas such as large language models, autonomous vehicles, healthcare applications, AI ethics and safety, and artificial general intelligence (AGI) research. \\n\\nIf you have any specific questions about any particular period or aspect of AI history, feel free to ask!'}]}\n"
                    ]
                }
            ],
            "source": [
                "# Test the orchestrator with a research question\n",
                "response = orchestrator(\"What is the history of artificial intelligence?\")\n",
                "print(response.message)"
            ]
        },
        {
            "cell_type": "code",
            "execution_count": null,
            "metadata": {},
            "outputs": [],
            "source": [
                "# to understand what is happening between the orchestrator and sub-agents, you can uncomment list the messages\n",
                "# orchestrator.messages"
            ]
        },
        {
            "cell_type": "code",
            "execution_count": null,
            "metadata": {},
            "outputs": [],
            "source": [
                "# Test the orchestrator with a creative writing request\n",
                "response = orchestrator(\"Write a short story about a robot learning to be human.\")\n",
                "print(response.message)"
            ]
        },
        {
            "cell_type": "markdown",
            "metadata": {},
            "source": [
                "## Conclusion\n",
                "\n",
                "In this notebook, we demonstrated how to use the custom `SAPGenAIHubModel` class with the Strands Agents SDK to create AI agents that leverage SAP's GenAI Hub for consuming LLMs. We showed how to:\n",
                "\n",
                "1. Initialize the `SAPGenAIHubModel` with different models from SAP's GenAI Hub\n",
                "2. Create simple agents with and without system prompts\n",
                "3. Enhance agents with built-in and custom tools\n",
                "4. Create multi-agent workflows using the \"Agents as Tools\" pattern\n",
                "\n",
                "This integration allows you to leverage the power of SAP's GenAI Hub with the flexibility and extensibility of the Strands Agents SDK."
            ]
        },
        {
            "cell_type": "code",
            "execution_count": null,
            "metadata": {},
            "outputs": [],
            "source": [
                "# In case you want to troubleshoot something, the following debugs will help\n",
                "\n",
                "# import logging\n",
                "\n",
                "# logging.basicConfig(level=logging.DEBUG)\n",
                "# logger = logging.getLogger()\n",
                "# logger.setLevel(logging.DEBUG)"
            ]
        }
    ],
    "metadata": {
        "kernelspec": {
            "display_name": ".venv",
            "language": "python",
            "name": "python3"
        },
        "language_info": {
            "codemirror_mode": {
                "name": "ipython",
                "version": 3
            },
            "file_extension": ".py",
            "mimetype": "text/x-python",
            "name": "python",
            "nbconvert_exporter": "python",
            "pygments_lexer": "ipython3",
            "version": "3.13.2"
        }
    },
    "nbformat": 4,
    "nbformat_minor": 4
}
